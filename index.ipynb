{
 "cells": [
  {
   "cell_type": "markdown",
   "metadata": {},
   "source": [
    "# Tuning and Optimizing Neural Networks - Lab\n",
    "\n",
    "## Introduction\n",
    "\n",
    "Now that you've practiced regularization, initialization, and optimization techniques, its time to synthesize these concepts into a cohesive modeling pipeline.  \n",
    "\n",
    "With this pipeline, you will not only fit an initial model but also attempt to improve it. Your final model selection will pertain to the test metrics across these models. This will more naturally simulate a problem you might be faced with in practice, and the various modeling decisions you are apt to encounter along the way.  \n",
    "\n",
    "Recall that our end objective is to achieve a balance between overfitting and underfitting. You've seen the bias variance trade-off, and the role of regularization in order to reduce overfitting on training data and improving generalization to new cases. Common frameworks for such a procedure include train/validate/test methodology when data is plentiful, and K-folds cross-validation for smaller, more limited datasets. In this lab, you'll perform the latter, as the dataset in question is fairly limited. \n",
    "\n",
    "## Objectives\n",
    "\n",
    "You will be able to:\n",
    "\n",
    "* Apply normalization as a preprocessing technique \n",
    "* Implement a K-folds cross validation modeling pipeline for deep learning models \n",
    "* Apply regularization techniques to improve your model's performance "
   ]
  },
  {
   "cell_type": "markdown",
   "metadata": {},
   "source": [
    "## Load the data\n",
    "\n",
    "First, run the following cell to import all the neccessary libraries and classes you will need in this lab. "
   ]
  },
  {
   "cell_type": "code",
   "execution_count": 1,
   "metadata": {
    "ExecuteTime": {
     "end_time": "2020-09-14T21:04:17.334881Z",
     "start_time": "2020-09-14T21:04:14.617684Z"
    }
   },
   "outputs": [
    {
     "name": "stderr",
     "output_type": "stream",
     "text": [
      "Using TensorFlow backend.\n",
      "C:\\Users\\tcast\\anaconda3\\envs\\learn-env\\lib\\site-packages\\tensorflow\\python\\framework\\dtypes.py:517: FutureWarning: Passing (type, 1) or '1type' as a synonym of type is deprecated; in a future version of numpy, it will be understood as (type, (1,)) / '(1,)type'.\n",
      "  _np_qint8 = np.dtype([(\"qint8\", np.int8, 1)])\n",
      "C:\\Users\\tcast\\anaconda3\\envs\\learn-env\\lib\\site-packages\\tensorflow\\python\\framework\\dtypes.py:518: FutureWarning: Passing (type, 1) or '1type' as a synonym of type is deprecated; in a future version of numpy, it will be understood as (type, (1,)) / '(1,)type'.\n",
      "  _np_quint8 = np.dtype([(\"quint8\", np.uint8, 1)])\n",
      "C:\\Users\\tcast\\anaconda3\\envs\\learn-env\\lib\\site-packages\\tensorflow\\python\\framework\\dtypes.py:519: FutureWarning: Passing (type, 1) or '1type' as a synonym of type is deprecated; in a future version of numpy, it will be understood as (type, (1,)) / '(1,)type'.\n",
      "  _np_qint16 = np.dtype([(\"qint16\", np.int16, 1)])\n",
      "C:\\Users\\tcast\\anaconda3\\envs\\learn-env\\lib\\site-packages\\tensorflow\\python\\framework\\dtypes.py:520: FutureWarning: Passing (type, 1) or '1type' as a synonym of type is deprecated; in a future version of numpy, it will be understood as (type, (1,)) / '(1,)type'.\n",
      "  _np_quint16 = np.dtype([(\"quint16\", np.uint16, 1)])\n",
      "C:\\Users\\tcast\\anaconda3\\envs\\learn-env\\lib\\site-packages\\tensorflow\\python\\framework\\dtypes.py:521: FutureWarning: Passing (type, 1) or '1type' as a synonym of type is deprecated; in a future version of numpy, it will be understood as (type, (1,)) / '(1,)type'.\n",
      "  _np_qint32 = np.dtype([(\"qint32\", np.int32, 1)])\n",
      "C:\\Users\\tcast\\anaconda3\\envs\\learn-env\\lib\\site-packages\\tensorflow\\python\\framework\\dtypes.py:526: FutureWarning: Passing (type, 1) or '1type' as a synonym of type is deprecated; in a future version of numpy, it will be understood as (type, (1,)) / '(1,)type'.\n",
      "  np_resource = np.dtype([(\"resource\", np.ubyte, 1)])\n"
     ]
    }
   ],
   "source": [
    "# Necessary libraries and classes\n",
    "import numpy as np\n",
    "import pandas as pd\n",
    "from sklearn.model_selection import train_test_split\n",
    "from sklearn.preprocessing import StandardScaler, OneHotEncoder\n",
    "from sklearn.impute import SimpleImputer\n",
    "from sklearn.metrics import mean_squared_error\n",
    "from sklearn.model_selection import cross_val_predict\n",
    "from keras import models\n",
    "from keras import layers\n",
    "from keras import regularizers\n",
    "from keras.wrappers.scikit_learn import KerasRegressor"
   ]
  },
  {
   "cell_type": "markdown",
   "metadata": {},
   "source": [
    "In this lab you'll be working with the *The Lending Club* data. \n",
    "\n",
    "- Import the data available in the file `'loan_final.csv'` \n",
    "- Drop rows with missing values in the `'total_pymnt'` column (this is your target column) \n",
    "- Print the first five rows of the data \n",
    "- Print the dimensions of the data "
   ]
  },
  {
   "cell_type": "code",
   "execution_count": 8,
   "metadata": {
    "ExecuteTime": {
     "end_time": "2020-09-14T21:09:40.936764Z",
     "start_time": "2020-09-14T21:09:40.821227Z"
    }
   },
   "outputs": [
    {
     "data": {
      "text/html": [
       "<div>\n",
       "<style scoped>\n",
       "    .dataframe tbody tr th:only-of-type {\n",
       "        vertical-align: middle;\n",
       "    }\n",
       "\n",
       "    .dataframe tbody tr th {\n",
       "        vertical-align: top;\n",
       "    }\n",
       "\n",
       "    .dataframe thead th {\n",
       "        text-align: right;\n",
       "    }\n",
       "</style>\n",
       "<table border=\"1\" class=\"dataframe\">\n",
       "  <thead>\n",
       "    <tr style=\"text-align: right;\">\n",
       "      <th></th>\n",
       "      <th>loan_amnt</th>\n",
       "      <th>funded_amnt_inv</th>\n",
       "      <th>term</th>\n",
       "      <th>int_rate</th>\n",
       "      <th>installment</th>\n",
       "      <th>grade</th>\n",
       "      <th>emp_length</th>\n",
       "      <th>home_ownership</th>\n",
       "      <th>annual_inc</th>\n",
       "      <th>verification_status</th>\n",
       "      <th>loan_status</th>\n",
       "      <th>purpose</th>\n",
       "      <th>addr_state</th>\n",
       "      <th>total_acc</th>\n",
       "      <th>total_pymnt</th>\n",
       "      <th>application_type</th>\n",
       "    </tr>\n",
       "  </thead>\n",
       "  <tbody>\n",
       "    <tr>\n",
       "      <th>0</th>\n",
       "      <td>5000.0</td>\n",
       "      <td>4975.0</td>\n",
       "      <td>36 months</td>\n",
       "      <td>10.65%</td>\n",
       "      <td>162.87</td>\n",
       "      <td>B</td>\n",
       "      <td>10+ years</td>\n",
       "      <td>RENT</td>\n",
       "      <td>24000.0</td>\n",
       "      <td>Verified</td>\n",
       "      <td>Fully Paid</td>\n",
       "      <td>credit_card</td>\n",
       "      <td>AZ</td>\n",
       "      <td>9.0</td>\n",
       "      <td>5863.155187</td>\n",
       "      <td>Individual</td>\n",
       "    </tr>\n",
       "    <tr>\n",
       "      <th>1</th>\n",
       "      <td>2500.0</td>\n",
       "      <td>2500.0</td>\n",
       "      <td>60 months</td>\n",
       "      <td>15.27%</td>\n",
       "      <td>59.83</td>\n",
       "      <td>C</td>\n",
       "      <td>&lt; 1 year</td>\n",
       "      <td>RENT</td>\n",
       "      <td>30000.0</td>\n",
       "      <td>Source Verified</td>\n",
       "      <td>Charged Off</td>\n",
       "      <td>car</td>\n",
       "      <td>GA</td>\n",
       "      <td>4.0</td>\n",
       "      <td>1014.530000</td>\n",
       "      <td>Individual</td>\n",
       "    </tr>\n",
       "    <tr>\n",
       "      <th>2</th>\n",
       "      <td>2400.0</td>\n",
       "      <td>2400.0</td>\n",
       "      <td>36 months</td>\n",
       "      <td>15.96%</td>\n",
       "      <td>84.33</td>\n",
       "      <td>C</td>\n",
       "      <td>10+ years</td>\n",
       "      <td>RENT</td>\n",
       "      <td>12252.0</td>\n",
       "      <td>Not Verified</td>\n",
       "      <td>Fully Paid</td>\n",
       "      <td>small_business</td>\n",
       "      <td>IL</td>\n",
       "      <td>10.0</td>\n",
       "      <td>3005.666844</td>\n",
       "      <td>Individual</td>\n",
       "    </tr>\n",
       "    <tr>\n",
       "      <th>3</th>\n",
       "      <td>10000.0</td>\n",
       "      <td>10000.0</td>\n",
       "      <td>36 months</td>\n",
       "      <td>13.49%</td>\n",
       "      <td>339.31</td>\n",
       "      <td>C</td>\n",
       "      <td>10+ years</td>\n",
       "      <td>RENT</td>\n",
       "      <td>49200.0</td>\n",
       "      <td>Source Verified</td>\n",
       "      <td>Fully Paid</td>\n",
       "      <td>other</td>\n",
       "      <td>CA</td>\n",
       "      <td>37.0</td>\n",
       "      <td>12231.890000</td>\n",
       "      <td>Individual</td>\n",
       "    </tr>\n",
       "    <tr>\n",
       "      <th>4</th>\n",
       "      <td>3000.0</td>\n",
       "      <td>3000.0</td>\n",
       "      <td>60 months</td>\n",
       "      <td>12.69%</td>\n",
       "      <td>67.79</td>\n",
       "      <td>B</td>\n",
       "      <td>1 year</td>\n",
       "      <td>RENT</td>\n",
       "      <td>80000.0</td>\n",
       "      <td>Source Verified</td>\n",
       "      <td>Fully Paid</td>\n",
       "      <td>other</td>\n",
       "      <td>OR</td>\n",
       "      <td>38.0</td>\n",
       "      <td>4066.908161</td>\n",
       "      <td>Individual</td>\n",
       "    </tr>\n",
       "  </tbody>\n",
       "</table>\n",
       "</div>"
      ],
      "text/plain": [
       "   loan_amnt  funded_amnt_inv        term int_rate  installment grade  \\\n",
       "0     5000.0           4975.0   36 months   10.65%       162.87     B   \n",
       "1     2500.0           2500.0   60 months   15.27%        59.83     C   \n",
       "2     2400.0           2400.0   36 months   15.96%        84.33     C   \n",
       "3    10000.0          10000.0   36 months   13.49%       339.31     C   \n",
       "4     3000.0           3000.0   60 months   12.69%        67.79     B   \n",
       "\n",
       "  emp_length home_ownership  annual_inc verification_status  loan_status  \\\n",
       "0  10+ years           RENT     24000.0            Verified   Fully Paid   \n",
       "1   < 1 year           RENT     30000.0     Source Verified  Charged Off   \n",
       "2  10+ years           RENT     12252.0        Not Verified   Fully Paid   \n",
       "3  10+ years           RENT     49200.0     Source Verified   Fully Paid   \n",
       "4     1 year           RENT     80000.0     Source Verified   Fully Paid   \n",
       "\n",
       "          purpose addr_state  total_acc   total_pymnt application_type  \n",
       "0     credit_card         AZ        9.0   5863.155187       Individual  \n",
       "1             car         GA        4.0   1014.530000       Individual  \n",
       "2  small_business         IL       10.0   3005.666844       Individual  \n",
       "3           other         CA       37.0  12231.890000       Individual  \n",
       "4           other         OR       38.0   4066.908161       Individual  "
      ]
     },
     "execution_count": 8,
     "metadata": {},
     "output_type": "execute_result"
    }
   ],
   "source": [
    "# Import the data\n",
    "data = pd.read_csv('loan_final.csv')\n",
    "\n",
    "# Drop rows with no target value\n",
    "data.dropna(subset=['total_pymnt'], axis=0, inplace=True)\n",
    "\n",
    "# Print the first five rows\n",
    "data.head()"
   ]
  },
  {
   "cell_type": "code",
   "execution_count": 9,
   "metadata": {
    "ExecuteTime": {
     "end_time": "2020-09-14T21:10:05.858269Z",
     "start_time": "2020-09-14T21:10:05.853255Z"
    }
   },
   "outputs": [
    {
     "name": "stdout",
     "output_type": "stream",
     "text": [
      "(42535, 16)\n"
     ]
    }
   ],
   "source": [
    "# Print the dimensions of data \n",
    "print(data.shape)"
   ]
  },
  {
   "cell_type": "markdown",
   "metadata": {},
   "source": [
    "## Generating a Hold Out Test Set\n",
    "\n",
    "While we will be using K-fold cross validation to select an optimal model, we still want a final hold out test set that is completely independent of any modeling decisions. As such, pull out a sample of 30% of the total available data. For consistency of results, use random seed 42. "
   ]
  },
  {
   "cell_type": "code",
   "execution_count": 10,
   "metadata": {
    "ExecuteTime": {
     "end_time": "2020-09-14T21:10:45.692966Z",
     "start_time": "2020-09-14T21:10:45.678026Z"
    }
   },
   "outputs": [],
   "source": [
    "# Features to build the model\n",
    "features = ['loan_amnt', 'funded_amnt_inv', 'installment', 'annual_inc', \n",
    "            'home_ownership', 'verification_status', 'emp_length']\n",
    "\n",
    "X = data[features]\n",
    "y = data[['total_pymnt']]\n",
    "\n",
    "# Split the data into training and test sets\n",
    "X_train, X_test, y_train, y_test = train_test_split(X, y, test_size=0.3, random_state=42)"
   ]
  },
  {
   "cell_type": "markdown",
   "metadata": {},
   "source": [
    "## Preprocessing (Numerical features) \n",
    "\n",
    "- Fill all missing values in numeric features with their respective means \n",
    "- Standardize all the numeric features  \n",
    "- Convert the final results into DataFrames "
   ]
  },
  {
   "cell_type": "code",
   "execution_count": 19,
   "metadata": {
    "ExecuteTime": {
     "end_time": "2020-09-14T21:17:41.318379Z",
     "start_time": "2020-09-14T21:17:41.301370Z"
    }
   },
   "outputs": [],
   "source": [
    "# Select continuous features\n",
    "cont_features = ['loan_amnt', 'funded_amnt_inv', 'installment', 'annual_inc']\n",
    "\n",
    "X_train_cont = X_train.loc[:, cont_features]\n",
    "X_test_cont = X_test.loc[:, cont_features]\n",
    "\n",
    "# Instantiate SimpleImputer - fill the missing values with the mean\n",
    "si = SimpleImputer(strategy='mean')\n",
    "\n",
    "# Fit and transform the training data\n",
    "X_train_imputed = si.fit_transform(X_train_cont)\n",
    "\n",
    "# Transform test data\n",
    "X_test_imputed = si.transform(X_test_cont)\n",
    "\n",
    "# Instantiate StandardScaler\n",
    "ss_X = StandardScaler()\n",
    "\n",
    "# Fit and transform the training data\n",
    "X_train_scaled = pd.DataFrame(ss_X.fit_transform(X_train_imputed), columns=cont_features)\n",
    "\n",
    "# Transform test data\n",
    "X_test_scaled = pd.DataFrame(ss_X.fit_transform(X_test_imputed), columns=cont_features)"
   ]
  },
  {
   "cell_type": "markdown",
   "metadata": {},
   "source": [
    "## Preprocessing (Categorical features) \n",
    "\n",
    "- Fill all missing values in categorical features with the string `'missing'` \n",
    "- One-hot encode all categorical features \n",
    "- Convert the final results into DataFrames \n"
   ]
  },
  {
   "cell_type": "code",
   "execution_count": 20,
   "metadata": {
    "ExecuteTime": {
     "end_time": "2020-09-14T21:17:42.066175Z",
     "start_time": "2020-09-14T21:17:42.021728Z"
    }
   },
   "outputs": [],
   "source": [
    "# Select only the categorical features\n",
    "cat_features = ['home_ownership', 'verification_status', 'emp_length']\n",
    "X_train_cat = X_train.loc[:, cat_features]\n",
    "X_test_cat = X_test.loc[:, cat_features]\n",
    "\n",
    "# Fill missing values with the string 'missing'\n",
    "X_train_cat.fillna('missing', inplace=True)\n",
    "X_test_cat.fillna('missing', inplace=True)\n",
    "\n",
    "\n",
    "# OneHotEncode categorical variables\n",
    "ohe = OneHotEncoder(handle_unknown='ignore')\n",
    "\n",
    "# Transform training and test sets\n",
    "X_train_ohe = ohe.fit_transform(X_train_cat)\n",
    "X_test_ohe = ohe.transform(X_test_cat)\n",
    "\n",
    "# Get all categorical feature names\n",
    "cat_columns = ohe.get_feature_names(input_features=X_train_cat.columns)\n",
    "\n",
    "# Fit and transform the training data\n",
    "X_train_categorical = pd.DataFrame(X_train_ohe.todense(), columns=cat_columns)\n",
    "\n",
    "# Transform test data\n",
    "X_test_categorical = pd.DataFrame(X_test_ohe.todense(), columns=cat_columns)"
   ]
  },
  {
   "cell_type": "markdown",
   "metadata": {},
   "source": [
    "Run the below cell to combine the numeric and categorical features. "
   ]
  },
  {
   "cell_type": "code",
   "execution_count": 21,
   "metadata": {
    "ExecuteTime": {
     "end_time": "2020-09-14T21:17:43.180518Z",
     "start_time": "2020-09-14T21:17:43.170006Z"
    }
   },
   "outputs": [],
   "source": [
    "# Combine continuous and categorical feature DataFrames\n",
    "X_train_all = pd.concat([X_train_scaled, X_train_categorical], axis=1)\n",
    "X_test_all = pd.concat([X_test_scaled, X_test_categorical], axis=1)\n",
    "\n",
    "# Number of input features\n",
    "n_features = X_train_all.shape[1]"
   ]
  },
  {
   "cell_type": "markdown",
   "metadata": {},
   "source": [
    "- Standardize the target DataFrames (`y_train` and `y_test`) "
   ]
  },
  {
   "cell_type": "code",
   "execution_count": 23,
   "metadata": {
    "ExecuteTime": {
     "end_time": "2020-09-14T21:18:17.827115Z",
     "start_time": "2020-09-14T21:18:17.820863Z"
    }
   },
   "outputs": [],
   "source": [
    "# Instantiate StandardScaler\n",
    "ss_y = StandardScaler()\n",
    "\n",
    "# Fit and transform Y (train)\n",
    "y_train_scaled = ss_y.fit_transform(y_train)\n",
    "\n",
    "# Transform test Y (test)\n",
    "y_test_scaled = ss_y.transform(y_test)"
   ]
  },
  {
   "cell_type": "markdown",
   "metadata": {},
   "source": [
    "## Define a K-fold Cross Validation Methodology\n",
    "\n",
    "Now that your have a complete holdout test set, you will perform k-fold cross-validation using the following steps: \n",
    "\n",
    "- Create a function that returns a compiled deep learning model \n",
    "- Use the wrapper function `KerasRegressor()` that defines how these folds are trained \n",
    "- Call the `cross_val_predict()` function to perform k-fold cross-validation \n",
    "\n",
    "In the cell below, we've defined a baseline model that returns a compiled Keras models. "
   ]
  },
  {
   "cell_type": "code",
   "execution_count": 24,
   "metadata": {
    "ExecuteTime": {
     "end_time": "2020-09-14T21:19:00.462867Z",
     "start_time": "2020-09-14T21:19:00.457880Z"
    }
   },
   "outputs": [],
   "source": [
    "# Define a function that returns a compiled Keras model \n",
    "def create_baseline_model():\n",
    "    \n",
    "    # Initialize model\n",
    "    model = models.Sequential()\n",
    "\n",
    "    # First hidden layer\n",
    "    model.add(layers.Dense(10, activation='relu', input_shape=(n_features,)))\n",
    "\n",
    "    # Second hidden layer\n",
    "    model.add(layers.Dense(5, activation='relu'))\n",
    "\n",
    "    # Output layer\n",
    "    model.add(layers.Dense(1, activation='linear'))\n",
    "\n",
    "    # Compile the model\n",
    "    model.compile(optimizer='SGD', \n",
    "                  loss='mse',  \n",
    "                  metrics=['mse']) \n",
    "    \n",
    "    # Return the compiled model\n",
    "    return model"
   ]
  },
  {
   "cell_type": "markdown",
   "metadata": {},
   "source": [
    "Wrap `create_baseline_model` inside a call to `KerasRegressor()`, and: \n",
    "\n",
    "- Train for 150 epochs \n",
    "- Set the batch size to 256 \n",
    "\n",
    "> NOTE: Refer to the [documentation](https://keras.io/scikit-learn-api/) to learn about `KerasRegressor()`.  "
   ]
  },
  {
   "cell_type": "code",
   "execution_count": 25,
   "metadata": {
    "ExecuteTime": {
     "end_time": "2020-09-14T21:22:19.325287Z",
     "start_time": "2020-09-14T21:22:19.322175Z"
    }
   },
   "outputs": [],
   "source": [
    "# Wrap the above function for use in cross-validation\n",
    "keras_wrapper_1 = KerasRegressor(create_baseline_model,\n",
    "                                 epochs=150,\n",
    "                                 batch_size=256,\n",
    "                                 verbose=0)"
   ]
  },
  {
   "cell_type": "markdown",
   "metadata": {},
   "source": [
    "Use `cross_val_predict()` to generate cross-validated predictions with: \n",
    "- 5-fold cv \n",
    "- scaled input (`X_train_all`) and output (`y_train_scaled`) "
   ]
  },
  {
   "cell_type": "code",
   "execution_count": 26,
   "metadata": {
    "ExecuteTime": {
     "end_time": "2020-09-14T21:24:15.836586Z",
     "start_time": "2020-09-14T21:23:12.950338Z"
    }
   },
   "outputs": [],
   "source": [
    "# ⏰ This cell may take several mintes to run\n",
    "# Generate cross-validated predictions\n",
    "np.random.seed(123)\n",
    "cv_baseline_preds = cross_val_predict(keras_wrapper_1,\n",
    "                                      X_train_all,\n",
    "                                      y_train_scaled,\n",
    "                                      cv=5)"
   ]
  },
  {
   "cell_type": "markdown",
   "metadata": {},
   "source": [
    "- Find the RMSE on train data "
   ]
  },
  {
   "cell_type": "code",
   "execution_count": 27,
   "metadata": {
    "ExecuteTime": {
     "end_time": "2020-09-14T21:26:44.880569Z",
     "start_time": "2020-09-14T21:26:44.873588Z"
    }
   },
   "outputs": [
    {
     "data": {
      "text/plain": [
       "0.4442062159923155"
      ]
     },
     "execution_count": 27,
     "metadata": {},
     "output_type": "execute_result"
    }
   ],
   "source": [
    "# RMSE on train data (scaled)\n",
    "np.sqrt(mean_squared_error(y_train_scaled, cv_baseline_preds))"
   ]
  },
  {
   "cell_type": "markdown",
   "metadata": {},
   "source": [
    "- Convert the scaled predictions back to original scale \n",
    "- Calculate RMSE in the original units with `y_train` and `baseline_preds` "
   ]
  },
  {
   "cell_type": "code",
   "execution_count": 28,
   "metadata": {
    "ExecuteTime": {
     "end_time": "2020-09-14T21:27:32.173220Z",
     "start_time": "2020-09-14T21:27:32.165268Z"
    }
   },
   "outputs": [
    {
     "data": {
      "text/plain": [
       "4046.069866194831"
      ]
     },
     "execution_count": 28,
     "metadata": {},
     "output_type": "execute_result"
    }
   ],
   "source": [
    "# Convert the predictions back to original scale\n",
    "baseline_preds = ss_y.inverse_transform(cv_baseline_preds)\n",
    "\n",
    "# RMSE on train data (original scale)\n",
    "np.sqrt(mean_squared_error(y_train, baseline_preds))"
   ]
  },
  {
   "cell_type": "markdown",
   "metadata": {},
   "source": [
    "## Intentionally Overfitting a Model\n",
    "\n",
    "Now that you've developed a baseline model, its time to intentionally overfit a model. To overfit a model, you can:\n",
    "* Add layers\n",
    "* Make the layers bigger\n",
    "* Increase the number of training epochs\n",
    "\n",
    "Again, be careful here. Think about the limitations of your resources, both in terms of your computers specs and how much time and patience you have to let the process run. Also keep in mind that you will then be regularizing these overfit models, meaning another round of experiments and more time and resources."
   ]
  },
  {
   "cell_type": "code",
   "execution_count": 33,
   "metadata": {
    "ExecuteTime": {
     "end_time": "2020-09-14T21:34:33.749993Z",
     "start_time": "2020-09-14T21:34:33.744960Z"
    }
   },
   "outputs": [],
   "source": [
    "# Define a function that returns a compiled Keras model \n",
    "def create_bigger_model():\n",
    "    # Initialize model\n",
    "    model = models.Sequential()\n",
    "\n",
    "    # First hidden layer\n",
    "    model.add(layers.Dense(20, activation='relu', input_shape=(n_features,)))\n",
    "\n",
    "    # Hidden layer\n",
    "    model.add(layers.Dense(10, activation='relu'))\n",
    "    \n",
    "    # Hidden layer\n",
    "    model.add(layers.Dense(10, activation='relu'))\n",
    "    \n",
    "    # Hidden layer\n",
    "    model.add(layers.Dense(10, activation='relu'))\n",
    "    \n",
    "    # Hidden layer\n",
    "    model.add(layers.Dense(5, activation='relu'))\n",
    "    \n",
    "    # Output layer\n",
    "    model.add(layers.Dense(1, activation='linear'))\n",
    "\n",
    "    # Compile the model\n",
    "    model.compile(optimizer='SGD', \n",
    "                  loss='mse',  \n",
    "                  metrics=['mse']) \n",
    "    \n",
    "    # Return the compiled model\n",
    "    return model"
   ]
  },
  {
   "cell_type": "code",
   "execution_count": 34,
   "metadata": {
    "ExecuteTime": {
     "end_time": "2020-09-14T21:34:34.052315Z",
     "start_time": "2020-09-14T21:34:34.049323Z"
    }
   },
   "outputs": [],
   "source": [
    "# Wrap the above function for use in cross-validation\n",
    "keras_wrapper_2 = KerasRegressor(create_bigger_model,\n",
    "                                 epochs=150,\n",
    "                                 batch_size=256,\n",
    "                                 verbose=0)"
   ]
  },
  {
   "cell_type": "code",
   "execution_count": 35,
   "metadata": {
    "ExecuteTime": {
     "end_time": "2020-09-14T21:36:10.367229Z",
     "start_time": "2020-09-14T21:34:34.425045Z"
    }
   },
   "outputs": [],
   "source": [
    "# ⏰ This cell may take several mintes to run\n",
    "# Generate cross-validated predictions\n",
    "np.random.seed(123)\n",
    "cv_bigger_model_preds = cross_val_predict(keras_wrapper_2,\n",
    "                                      X_train_all,\n",
    "                                      y_train_scaled,\n",
    "                                      cv=5)"
   ]
  },
  {
   "cell_type": "code",
   "execution_count": 36,
   "metadata": {
    "ExecuteTime": {
     "end_time": "2020-09-14T21:36:10.541462Z",
     "start_time": "2020-09-14T21:36:10.534480Z"
    }
   },
   "outputs": [
    {
     "data": {
      "text/plain": [
       "4052.95248768363"
      ]
     },
     "execution_count": 36,
     "metadata": {},
     "output_type": "execute_result"
    }
   ],
   "source": [
    "# Convert the predictions back to original scale\n",
    "bigger_model_preds = ss_y.inverse_transform(cv_bigger_model_preds)\n",
    "\n",
    "# RMSE on train data (original scale)\n",
    "np.sqrt(mean_squared_error(y_train, bigger_model_preds))"
   ]
  },
  {
   "cell_type": "markdown",
   "metadata": {},
   "source": [
    "## Regularizing the Model to Achieve Balance  \n",
    "\n",
    "Now that you have a powerful model (albeit an overfit one), we can now increase the generalization of the model by using some of the regularization techniques we discussed. Some options you have to try include:  \n",
    "* Adding dropout\n",
    "* Adding L1/L2 regularization\n",
    "* Altering the layer architecture (add or remove layers similar to above)  \n",
    "\n",
    "This process will be constrained by time and resources. Be sure to test at least two different methodologies, such as dropout and L2 regularization. If you have the time, feel free to continue experimenting. "
   ]
  },
  {
   "cell_type": "code",
   "execution_count": 45,
   "metadata": {
    "ExecuteTime": {
     "end_time": "2020-09-14T21:44:30.074651Z",
     "start_time": "2020-09-14T21:44:30.070595Z"
    }
   },
   "outputs": [],
   "source": [
    "# Define a function that returns a compiled Keras model \n",
    "def create_regularized_model():\n",
    "    # Initialize model\n",
    "    model = models.Sequential()\n",
    "    model.add(layers.Dropout(0.3, input_shape=(n_features,)))\n",
    "    # First hidden layer\n",
    "    model.add(layers.Dense(10, activation='relu', kernel_regularizer=regularizers.l1(0.005)))\n",
    "    model.add(layers.Dropout(0.3))\n",
    "    # Hidden layer\n",
    "    model.add(layers.Dense(10, activation='relu', kernel_regularizer=regularizers.l1(0.005)))\n",
    "    model.add(layers.Dropout(0.3))\n",
    "    \n",
    "    # Hidden layer\n",
    "    model.add(layers.Dense(5, activation='relu', kernel_regularizer=regularizers.l1(0.005)))\n",
    "    model.add(layers.Dropout(0.3))\n",
    "    \n",
    "    # Output layer\n",
    "    model.add(layers.Dense(1, activation='linear'))\n",
    "\n",
    "    # Compile the model\n",
    "    model.compile(optimizer='SGD', \n",
    "                  loss='mse',  \n",
    "                  metrics=['mse']) \n",
    "    \n",
    "    # Return the compiled model\n",
    "    return model"
   ]
  },
  {
   "cell_type": "code",
   "execution_count": 46,
   "metadata": {
    "ExecuteTime": {
     "end_time": "2020-09-14T21:44:30.406141Z",
     "start_time": "2020-09-14T21:44:30.402116Z"
    }
   },
   "outputs": [],
   "source": [
    "# Wrap the above function for use in cross-validation\n",
    "keras_wrapper_3 = KerasRegressor(create_regularized_model,\n",
    "                                 epochs=150,\n",
    "                                 batch_size=256,\n",
    "                                 verbose=0)"
   ]
  },
  {
   "cell_type": "code",
   "execution_count": 47,
   "metadata": {
    "ExecuteTime": {
     "end_time": "2020-09-14T21:46:51.717258Z",
     "start_time": "2020-09-14T21:44:30.813008Z"
    }
   },
   "outputs": [],
   "source": [
    "# ⏰ This cell may take several mintes to run\n",
    "# Generate cross-validated predictions\n",
    "np.random.seed(123)\n",
    "cv_dropout_preds = cross_val_predict(keras_wrapper_3,\n",
    "                                      X_train_all,\n",
    "                                      y_train_scaled,\n",
    "                                      cv=5)"
   ]
  },
  {
   "cell_type": "code",
   "execution_count": 48,
   "metadata": {
    "ExecuteTime": {
     "end_time": "2020-09-14T21:46:51.881569Z",
     "start_time": "2020-09-14T21:46:51.874537Z"
    }
   },
   "outputs": [
    {
     "data": {
      "text/plain": [
       "5371.3108843168575"
      ]
     },
     "execution_count": 48,
     "metadata": {},
     "output_type": "execute_result"
    }
   ],
   "source": [
    "# Convert the predictions back to original scale\n",
    "reg_model_preds = ss_y.inverse_transform(cv_dropout_preds)\n",
    "\n",
    "# RMSE on train data (original scale)\n",
    "np.sqrt(mean_squared_error(y_train, reg_model_preds))"
   ]
  },
  {
   "cell_type": "markdown",
   "metadata": {},
   "source": [
    "## Final Evaluation\n",
    "\n",
    "Now that you have selected a network architecture, tested various regularization procedures and tuned hyperparameters via a validation methodology, it is time to evaluate your final model on the test set. Fit the model using all of the training data using the architecture and hyperparameters that were most effective in your experiments above. Afterwards, measure the overall performance on the hold-out test data which has been left untouched (and hasn't leaked any data into the modeling process)! "
   ]
  },
  {
   "cell_type": "code",
   "execution_count": 54,
   "metadata": {
    "ExecuteTime": {
     "end_time": "2020-09-14T21:52:32.498761Z",
     "start_time": "2020-09-14T21:52:11.724430Z"
    },
    "scrolled": true
   },
   "outputs": [
    {
     "name": "stdout",
     "output_type": "stream",
     "text": [
      "Epoch 1/150\n",
      "29774/29774 [==============================] - 1s 19us/step - loss: 0.4905 - mean_squared_error: 0.4905\n",
      "Epoch 2/150\n",
      "29774/29774 [==============================] - 0s 4us/step - loss: 0.2324 - mean_squared_error: 0.2324\n",
      "Epoch 3/150\n",
      "29774/29774 [==============================] - 0s 4us/step - loss: 0.2236 - mean_squared_error: 0.2236\n",
      "Epoch 4/150\n",
      "29774/29774 [==============================] - 0s 4us/step - loss: 0.2187 - mean_squared_error: 0.2187\n",
      "Epoch 5/150\n",
      "29774/29774 [==============================] - 0s 5us/step - loss: 0.2155 - mean_squared_error: 0.2155\n",
      "Epoch 6/150\n",
      "29774/29774 [==============================] - 0s 5us/step - loss: 0.2134 - mean_squared_error: 0.2134\n",
      "Epoch 7/150\n",
      "29774/29774 [==============================] - 0s 4us/step - loss: 0.2118 - mean_squared_error: 0.2118\n",
      "Epoch 8/150\n",
      "29774/29774 [==============================] - 0s 5us/step - loss: 0.2106 - mean_squared_error: 0.2106\n",
      "Epoch 9/150\n",
      "29774/29774 [==============================] - 0s 5us/step - loss: 0.2095 - mean_squared_error: 0.2095\n",
      "Epoch 10/150\n",
      "29774/29774 [==============================] - 0s 4us/step - loss: 0.2086 - mean_squared_error: 0.2086\n",
      "Epoch 11/150\n",
      "29774/29774 [==============================] - 0s 5us/step - loss: 0.2077 - mean_squared_error: 0.2077\n",
      "Epoch 12/150\n",
      "29774/29774 [==============================] - 0s 4us/step - loss: 0.2070 - mean_squared_error: 0.2070\n",
      "Epoch 13/150\n",
      "29774/29774 [==============================] - 0s 5us/step - loss: 0.2063 - mean_squared_error: 0.2063\n",
      "Epoch 14/150\n",
      "29774/29774 [==============================] - 0s 4us/step - loss: 0.2058 - mean_squared_error: 0.2058\n",
      "Epoch 15/150\n",
      "29774/29774 [==============================] - 0s 5us/step - loss: 0.2053 - mean_squared_error: 0.2053\n",
      "Epoch 16/150\n",
      "29774/29774 [==============================] - 0s 5us/step - loss: 0.2047 - mean_squared_error: 0.2047\n",
      "Epoch 17/150\n",
      "29774/29774 [==============================] - 0s 5us/step - loss: 0.2043 - mean_squared_error: 0.2043\n",
      "Epoch 18/150\n",
      "29774/29774 [==============================] - 0s 5us/step - loss: 0.2039 - mean_squared_error: 0.2039\n",
      "Epoch 19/150\n",
      "29774/29774 [==============================] - 0s 5us/step - loss: 0.2035 - mean_squared_error: 0.2035\n",
      "Epoch 20/150\n",
      "29774/29774 [==============================] - 0s 4us/step - loss: 0.2032 - mean_squared_error: 0.2032\n",
      "Epoch 21/150\n",
      "29774/29774 [==============================] - 0s 5us/step - loss: 0.2027 - mean_squared_error: 0.2027\n",
      "Epoch 22/150\n",
      "29774/29774 [==============================] - 0s 5us/step - loss: 0.2026 - mean_squared_error: 0.2026\n",
      "Epoch 23/150\n",
      "29774/29774 [==============================] - 0s 5us/step - loss: 0.2023 - mean_squared_error: 0.2023\n",
      "Epoch 24/150\n",
      "29774/29774 [==============================] - 0s 5us/step - loss: 0.2021 - mean_squared_error: 0.2021\n",
      "Epoch 25/150\n",
      "29774/29774 [==============================] - 0s 4us/step - loss: 0.2017 - mean_squared_error: 0.2017\n",
      "Epoch 26/150\n",
      "29774/29774 [==============================] - 0s 4us/step - loss: 0.2016 - mean_squared_error: 0.2016\n",
      "Epoch 27/150\n",
      "29774/29774 [==============================] - 0s 5us/step - loss: 0.2013 - mean_squared_error: 0.2013\n",
      "Epoch 28/150\n",
      "29774/29774 [==============================] - 0s 5us/step - loss: 0.2011 - mean_squared_error: 0.2011\n",
      "Epoch 29/150\n",
      "29774/29774 [==============================] - 0s 4us/step - loss: 0.2009 - mean_squared_error: 0.2009\n",
      "Epoch 30/150\n",
      "29774/29774 [==============================] - 0s 5us/step - loss: 0.2007 - mean_squared_error: 0.2007\n",
      "Epoch 31/150\n",
      "29774/29774 [==============================] - 0s 4us/step - loss: 0.2005 - mean_squared_error: 0.2005\n",
      "Epoch 32/150\n",
      "29774/29774 [==============================] - 0s 5us/step - loss: 0.2004 - mean_squared_error: 0.2004\n",
      "Epoch 33/150\n",
      "29774/29774 [==============================] - 0s 5us/step - loss: 0.2000 - mean_squared_error: 0.2000\n",
      "Epoch 34/150\n",
      "29774/29774 [==============================] - 0s 4us/step - loss: 0.2001 - mean_squared_error: 0.2001\n",
      "Epoch 35/150\n",
      "29774/29774 [==============================] - 0s 4us/step - loss: 0.1998 - mean_squared_error: 0.1998\n",
      "Epoch 36/150\n",
      "29774/29774 [==============================] - 0s 5us/step - loss: 0.1996 - mean_squared_error: 0.1996\n",
      "Epoch 37/150\n",
      "29774/29774 [==============================] - 0s 4us/step - loss: 0.1995 - mean_squared_error: 0.1995\n",
      "Epoch 38/150\n",
      "29774/29774 [==============================] - 0s 4us/step - loss: 0.1995 - mean_squared_error: 0.1995\n",
      "Epoch 39/150\n",
      "29774/29774 [==============================] - 0s 5us/step - loss: 0.1993 - mean_squared_error: 0.1993\n",
      "Epoch 40/150\n",
      "29774/29774 [==============================] - 0s 4us/step - loss: 0.1991 - mean_squared_error: 0.1991\n",
      "Epoch 41/150\n",
      "29774/29774 [==============================] - 0s 4us/step - loss: 0.1991 - mean_squared_error: 0.1991: 0s - loss: 0.1947 - mean_squared_error: 0.\n",
      "Epoch 42/150\n",
      "29774/29774 [==============================] - 0s 4us/step - loss: 0.1990 - mean_squared_error: 0.1990\n",
      "Epoch 43/150\n",
      "29774/29774 [==============================] - 0s 4us/step - loss: 0.1989 - mean_squared_error: 0.1989\n",
      "Epoch 44/150\n",
      "29774/29774 [==============================] - 0s 4us/step - loss: 0.1988 - mean_squared_error: 0.1988\n",
      "Epoch 45/150\n",
      "29774/29774 [==============================] - 0s 4us/step - loss: 0.1987 - mean_squared_error: 0.1987\n",
      "Epoch 46/150\n",
      "29774/29774 [==============================] - 0s 4us/step - loss: 0.1986 - mean_squared_error: 0.1986\n",
      "Epoch 47/150\n",
      "29774/29774 [==============================] - 0s 5us/step - loss: 0.1984 - mean_squared_error: 0.1984\n",
      "Epoch 48/150\n",
      "29774/29774 [==============================] - 0s 4us/step - loss: 0.1985 - mean_squared_error: 0.1985\n",
      "Epoch 49/150\n",
      "29774/29774 [==============================] - 0s 4us/step - loss: 0.1982 - mean_squared_error: 0.1982\n",
      "Epoch 50/150\n",
      "29774/29774 [==============================] - 0s 5us/step - loss: 0.1981 - mean_squared_error: 0.1981\n",
      "Epoch 51/150\n",
      "29774/29774 [==============================] - 0s 4us/step - loss: 0.1981 - mean_squared_error: 0.1981\n",
      "Epoch 52/150\n",
      "29774/29774 [==============================] - 0s 5us/step - loss: 0.1980 - mean_squared_error: 0.1980\n",
      "Epoch 53/150\n",
      "29774/29774 [==============================] - 0s 4us/step - loss: 0.1979 - mean_squared_error: 0.1979\n",
      "Epoch 54/150\n",
      "29774/29774 [==============================] - 0s 4us/step - loss: 0.1978 - mean_squared_error: 0.1978\n",
      "Epoch 55/150\n",
      "29774/29774 [==============================] - 0s 4us/step - loss: 0.1978 - mean_squared_error: 0.1978\n",
      "Epoch 56/150\n",
      "29774/29774 [==============================] - 0s 5us/step - loss: 0.1976 - mean_squared_error: 0.1976\n",
      "Epoch 57/150\n",
      "29774/29774 [==============================] - 0s 5us/step - loss: 0.1976 - mean_squared_error: 0.1976\n",
      "Epoch 58/150\n",
      "29774/29774 [==============================] - 0s 5us/step - loss: 0.1975 - mean_squared_error: 0.1975\n",
      "Epoch 59/150\n",
      "29774/29774 [==============================] - 0s 5us/step - loss: 0.1975 - mean_squared_error: 0.1975\n",
      "Epoch 60/150\n",
      "29774/29774 [==============================] - 0s 5us/step - loss: 0.1975 - mean_squared_error: 0.1975\n",
      "Epoch 61/150\n",
      "29774/29774 [==============================] - 0s 5us/step - loss: 0.1974 - mean_squared_error: 0.1974\n",
      "Epoch 62/150\n",
      "29774/29774 [==============================] - 0s 4us/step - loss: 0.1973 - mean_squared_error: 0.1973\n",
      "Epoch 63/150\n",
      "29774/29774 [==============================] - 0s 4us/step - loss: 0.1972 - mean_squared_error: 0.1972\n",
      "Epoch 64/150\n",
      "29774/29774 [==============================] - 0s 4us/step - loss: 0.1972 - mean_squared_error: 0.1972\n",
      "Epoch 65/150\n",
      "29774/29774 [==============================] - 0s 5us/step - loss: 0.1971 - mean_squared_error: 0.1971\n",
      "Epoch 66/150\n",
      "29774/29774 [==============================] - 0s 4us/step - loss: 0.1971 - mean_squared_error: 0.1971\n",
      "Epoch 67/150\n",
      "29774/29774 [==============================] - 0s 5us/step - loss: 0.1970 - mean_squared_error: 0.1970\n",
      "Epoch 68/150\n",
      "29774/29774 [==============================] - 0s 5us/step - loss: 0.1969 - mean_squared_error: 0.1969\n",
      "Epoch 69/150\n",
      "29774/29774 [==============================] - 0s 4us/step - loss: 0.1969 - mean_squared_error: 0.1969\n",
      "Epoch 70/150\n"
     ]
    },
    {
     "name": "stdout",
     "output_type": "stream",
     "text": [
      "29774/29774 [==============================] - 0s 5us/step - loss: 0.1966 - mean_squared_error: 0.1966: 0s - loss: 0.1919 - mean_squared_error: 0.19\n",
      "Epoch 71/150\n",
      "29774/29774 [==============================] - 0s 4us/step - loss: 0.1968 - mean_squared_error: 0.1968\n",
      "Epoch 72/150\n",
      "29774/29774 [==============================] - 0s 4us/step - loss: 0.1967 - mean_squared_error: 0.1967\n",
      "Epoch 73/150\n",
      "29774/29774 [==============================] - 0s 4us/step - loss: 0.1965 - mean_squared_error: 0.1965\n",
      "Epoch 74/150\n",
      "29774/29774 [==============================] - 0s 4us/step - loss: 0.1966 - mean_squared_error: 0.1966\n",
      "Epoch 75/150\n",
      "29774/29774 [==============================] - 0s 5us/step - loss: 0.1965 - mean_squared_error: 0.1965\n",
      "Epoch 76/150\n",
      "29774/29774 [==============================] - 0s 4us/step - loss: 0.1964 - mean_squared_error: 0.1964\n",
      "Epoch 77/150\n",
      "29774/29774 [==============================] - 0s 4us/step - loss: 0.1962 - mean_squared_error: 0.1962\n",
      "Epoch 78/150\n",
      "29774/29774 [==============================] - 0s 4us/step - loss: 0.1962 - mean_squared_error: 0.1962\n",
      "Epoch 79/150\n",
      "29774/29774 [==============================] - 0s 4us/step - loss: 0.1963 - mean_squared_error: 0.1963\n",
      "Epoch 80/150\n",
      "29774/29774 [==============================] - 0s 4us/step - loss: 0.1962 - mean_squared_error: 0.1962\n",
      "Epoch 81/150\n",
      "29774/29774 [==============================] - 0s 5us/step - loss: 0.1962 - mean_squared_error: 0.1962\n",
      "Epoch 82/150\n",
      "29774/29774 [==============================] - 0s 4us/step - loss: 0.1961 - mean_squared_error: 0.1961\n",
      "Epoch 83/150\n",
      "29774/29774 [==============================] - 0s 5us/step - loss: 0.1960 - mean_squared_error: 0.1960\n",
      "Epoch 84/150\n",
      "29774/29774 [==============================] - 0s 4us/step - loss: 0.1960 - mean_squared_error: 0.1960\n",
      "Epoch 85/150\n",
      "29774/29774 [==============================] - 0s 4us/step - loss: 0.1959 - mean_squared_error: 0.1959\n",
      "Epoch 86/150\n",
      "29774/29774 [==============================] - 0s 4us/step - loss: 0.1959 - mean_squared_error: 0.1959\n",
      "Epoch 87/150\n",
      "29774/29774 [==============================] - 0s 4us/step - loss: 0.1959 - mean_squared_error: 0.1959\n",
      "Epoch 88/150\n",
      "29774/29774 [==============================] - 0s 5us/step - loss: 0.1957 - mean_squared_error: 0.1957\n",
      "Epoch 89/150\n",
      "29774/29774 [==============================] - 0s 5us/step - loss: 0.1957 - mean_squared_error: 0.1957\n",
      "Epoch 90/150\n",
      "29774/29774 [==============================] - 0s 5us/step - loss: 0.1958 - mean_squared_error: 0.1958\n",
      "Epoch 91/150\n",
      "29774/29774 [==============================] - 0s 5us/step - loss: 0.1957 - mean_squared_error: 0.1957\n",
      "Epoch 92/150\n",
      "29774/29774 [==============================] - 0s 5us/step - loss: 0.1956 - mean_squared_error: 0.1956\n",
      "Epoch 93/150\n",
      "29774/29774 [==============================] - 0s 5us/step - loss: 0.1955 - mean_squared_error: 0.1955\n",
      "Epoch 94/150\n",
      "29774/29774 [==============================] - 0s 5us/step - loss: 0.1955 - mean_squared_error: 0.1955\n",
      "Epoch 95/150\n",
      "29774/29774 [==============================] - 0s 4us/step - loss: 0.1955 - mean_squared_error: 0.1955\n",
      "Epoch 96/150\n",
      "29774/29774 [==============================] - 0s 4us/step - loss: 0.1955 - mean_squared_error: 0.1955\n",
      "Epoch 97/150\n",
      "29774/29774 [==============================] - 0s 4us/step - loss: 0.1954 - mean_squared_error: 0.1954\n",
      "Epoch 98/150\n",
      "29774/29774 [==============================] - 0s 4us/step - loss: 0.1953 - mean_squared_error: 0.1953\n",
      "Epoch 99/150\n",
      "29774/29774 [==============================] - 0s 4us/step - loss: 0.1953 - mean_squared_error: 0.1953\n",
      "Epoch 100/150\n",
      "29774/29774 [==============================] - 0s 4us/step - loss: 0.1952 - mean_squared_error: 0.1952\n",
      "Epoch 101/150\n",
      "29774/29774 [==============================] - 0s 4us/step - loss: 0.1952 - mean_squared_error: 0.1952\n",
      "Epoch 102/150\n",
      "29774/29774 [==============================] - 0s 5us/step - loss: 0.1952 - mean_squared_error: 0.1952\n",
      "Epoch 103/150\n",
      "29774/29774 [==============================] - 0s 4us/step - loss: 0.1951 - mean_squared_error: 0.1951\n",
      "Epoch 104/150\n",
      "29774/29774 [==============================] - 0s 5us/step - loss: 0.1951 - mean_squared_error: 0.1951\n",
      "Epoch 105/150\n",
      "29774/29774 [==============================] - 0s 4us/step - loss: 0.1950 - mean_squared_error: 0.1950\n",
      "Epoch 106/150\n",
      "29774/29774 [==============================] - 0s 5us/step - loss: 0.1949 - mean_squared_error: 0.1949\n",
      "Epoch 107/150\n",
      "29774/29774 [==============================] - 0s 4us/step - loss: 0.1949 - mean_squared_error: 0.1949\n",
      "Epoch 108/150\n",
      "29774/29774 [==============================] - 0s 4us/step - loss: 0.1949 - mean_squared_error: 0.1949\n",
      "Epoch 109/150\n",
      "29774/29774 [==============================] - 0s 5us/step - loss: 0.1948 - mean_squared_error: 0.1948\n",
      "Epoch 110/150\n",
      "29774/29774 [==============================] - 0s 5us/step - loss: 0.1948 - mean_squared_error: 0.1948\n",
      "Epoch 111/150\n",
      "29774/29774 [==============================] - 0s 4us/step - loss: 0.1948 - mean_squared_error: 0.1948\n",
      "Epoch 112/150\n",
      "29774/29774 [==============================] - 0s 5us/step - loss: 0.1947 - mean_squared_error: 0.1947\n",
      "Epoch 113/150\n",
      "29774/29774 [==============================] - 0s 4us/step - loss: 0.1946 - mean_squared_error: 0.1946\n",
      "Epoch 114/150\n",
      "29774/29774 [==============================] - 0s 4us/step - loss: 0.1945 - mean_squared_error: 0.1945\n",
      "Epoch 115/150\n",
      "29774/29774 [==============================] - 0s 4us/step - loss: 0.1946 - mean_squared_error: 0.1946\n",
      "Epoch 116/150\n",
      "29774/29774 [==============================] - 0s 4us/step - loss: 0.1944 - mean_squared_error: 0.1944\n",
      "Epoch 117/150\n",
      "29774/29774 [==============================] - 0s 4us/step - loss: 0.1944 - mean_squared_error: 0.1944\n",
      "Epoch 118/150\n",
      "29774/29774 [==============================] - 0s 4us/step - loss: 0.1944 - mean_squared_error: 0.1944\n",
      "Epoch 119/150\n",
      "29774/29774 [==============================] - 0s 4us/step - loss: 0.1943 - mean_squared_error: 0.1943\n",
      "Epoch 120/150\n",
      "29774/29774 [==============================] - 0s 4us/step - loss: 0.1943 - mean_squared_error: 0.1943\n",
      "Epoch 121/150\n",
      "29774/29774 [==============================] - 0s 4us/step - loss: 0.1941 - mean_squared_error: 0.1941\n",
      "Epoch 122/150\n",
      "29774/29774 [==============================] - 0s 4us/step - loss: 0.1942 - mean_squared_error: 0.1942\n",
      "Epoch 123/150\n",
      "29774/29774 [==============================] - 0s 4us/step - loss: 0.1942 - mean_squared_error: 0.1942\n",
      "Epoch 124/150\n",
      "29774/29774 [==============================] - 0s 4us/step - loss: 0.1942 - mean_squared_error: 0.1942\n",
      "Epoch 125/150\n",
      "29774/29774 [==============================] - 0s 4us/step - loss: 0.1941 - mean_squared_error: 0.1941\n",
      "Epoch 126/150\n",
      "29774/29774 [==============================] - 0s 4us/step - loss: 0.1941 - mean_squared_error: 0.1941\n",
      "Epoch 127/150\n",
      "29774/29774 [==============================] - 0s 5us/step - loss: 0.1939 - mean_squared_error: 0.1939\n",
      "Epoch 128/150\n",
      "29774/29774 [==============================] - 0s 5us/step - loss: 0.1939 - mean_squared_error: 0.1939\n",
      "Epoch 129/150\n",
      "29774/29774 [==============================] - 0s 4us/step - loss: 0.1939 - mean_squared_error: 0.1939\n",
      "Epoch 130/150\n",
      "29774/29774 [==============================] - 0s 4us/step - loss: 0.1938 - mean_squared_error: 0.1938\n",
      "Epoch 131/150\n",
      "29774/29774 [==============================] - 0s 5us/step - loss: 0.1938 - mean_squared_error: 0.1938\n",
      "Epoch 132/150\n",
      "29774/29774 [==============================] - 0s 4us/step - loss: 0.1938 - mean_squared_error: 0.1938\n",
      "Epoch 133/150\n",
      "29774/29774 [==============================] - 0s 4us/step - loss: 0.1938 - mean_squared_error: 0.1938\n",
      "Epoch 134/150\n",
      "29774/29774 [==============================] - 0s 4us/step - loss: 0.1937 - mean_squared_error: 0.1937\n",
      "Epoch 135/150\n",
      "29774/29774 [==============================] - 0s 4us/step - loss: 0.1937 - mean_squared_error: 0.1937\n",
      "Epoch 136/150\n",
      "29774/29774 [==============================] - 0s 4us/step - loss: 0.1936 - mean_squared_error: 0.1936\n",
      "Epoch 137/150\n",
      "29774/29774 [==============================] - 0s 5us/step - loss: 0.1936 - mean_squared_error: 0.1936\n",
      "Epoch 138/150\n",
      "29774/29774 [==============================] - 0s 4us/step - loss: 0.1935 - mean_squared_error: 0.1935\n",
      "Epoch 139/150\n",
      "29774/29774 [==============================] - 0s 4us/step - loss: 0.1935 - mean_squared_error: 0.1935\n"
     ]
    },
    {
     "name": "stdout",
     "output_type": "stream",
     "text": [
      "Epoch 140/150\n",
      "29774/29774 [==============================] - 0s 4us/step - loss: 0.1935 - mean_squared_error: 0.1935\n",
      "Epoch 141/150\n",
      "29774/29774 [==============================] - 0s 4us/step - loss: 0.1933 - mean_squared_error: 0.1933\n",
      "Epoch 142/150\n",
      "29774/29774 [==============================] - 0s 4us/step - loss: 0.1933 - mean_squared_error: 0.1933\n",
      "Epoch 143/150\n",
      "29774/29774 [==============================] - 0s 4us/step - loss: 0.1932 - mean_squared_error: 0.1932\n",
      "Epoch 144/150\n",
      "29774/29774 [==============================] - 0s 4us/step - loss: 0.1931 - mean_squared_error: 0.1931\n",
      "Epoch 145/150\n",
      "29774/29774 [==============================] - 0s 5us/step - loss: 0.1933 - mean_squared_error: 0.1933\n",
      "Epoch 146/150\n",
      "29774/29774 [==============================] - 0s 5us/step - loss: 0.1932 - mean_squared_error: 0.1932\n",
      "Epoch 147/150\n",
      "29774/29774 [==============================] - 0s 5us/step - loss: 0.1931 - mean_squared_error: 0.1931\n",
      "Epoch 148/150\n",
      "29774/29774 [==============================] - 0s 4us/step - loss: 0.1931 - mean_squared_error: 0.1931\n",
      "Epoch 149/150\n",
      "29774/29774 [==============================] - 0s 4us/step - loss: 0.1932 - mean_squared_error: 0.1932\n",
      "Epoch 150/150\n",
      "29774/29774 [==============================] - 0s 5us/step - loss: 0.1931 - mean_squared_error: 0.1931\n"
     ]
    },
    {
     "data": {
      "text/plain": [
       "<keras.callbacks.History at 0x169b69cef60>"
      ]
     },
     "execution_count": 54,
     "metadata": {},
     "output_type": "execute_result"
    }
   ],
   "source": [
    "# ⏰ This cell may take several mintes to run\n",
    "model = models.Sequential()\n",
    "model.add(layers.Dense(10, activation='relu', input_shape=(n_features,)))\n",
    "model.add(layers.Dense(5, activation='relu'))\n",
    "model.add(layers.Dense(1, activation='linear'))\n",
    "\n",
    "model.compile(optimizer='sgd', loss='mse', metrics=['mse'])\n",
    "\n",
    "model.fit(X_train_all, y_train_scaled, epochs=150, batch_size=256)"
   ]
  },
  {
   "cell_type": "code",
   "execution_count": 55,
   "metadata": {
    "ExecuteTime": {
     "end_time": "2020-09-14T21:52:36.386632Z",
     "start_time": "2020-09-14T21:52:35.993979Z"
    }
   },
   "outputs": [
    {
     "data": {
      "text/plain": [
       "3853.7081524786945"
      ]
     },
     "execution_count": 55,
     "metadata": {},
     "output_type": "execute_result"
    }
   ],
   "source": [
    "final_preds_scaled = model.predict(X_test_all)\n",
    "\n",
    "final_preds = ss_y.inverse_transform(final_preds_scaled)\n",
    "\n",
    "np.sqrt(mean_squared_error(y_test, final_preds))"
   ]
  },
  {
   "cell_type": "markdown",
   "metadata": {},
   "source": [
    "## Summary\n",
    "\n",
    "In this lab, you investigated some data from *The Lending Club* in a complete data science pipeline to build neural networks with good performance. You began with reserving a hold-out set for testing which never was touched during the modeling phase. From there, you implemented a k-fold cross validation methodology in order to assess an initial baseline model and various regularization methods. "
   ]
  }
 ],
 "metadata": {
  "kernelspec": {
   "display_name": "Python 3",
   "language": "python",
   "name": "python3"
  },
  "language_info": {
   "codemirror_mode": {
    "name": "ipython",
    "version": 3
   },
   "file_extension": ".py",
   "mimetype": "text/x-python",
   "name": "python",
   "nbconvert_exporter": "python",
   "pygments_lexer": "ipython3",
   "version": "3.6.6"
  },
  "toc": {
   "base_numbering": 1,
   "nav_menu": {},
   "number_sections": true,
   "sideBar": true,
   "skip_h1_title": false,
   "title_cell": "Table of Contents",
   "title_sidebar": "Contents",
   "toc_cell": false,
   "toc_position": {},
   "toc_section_display": true,
   "toc_window_display": false
  },
  "varInspector": {
   "cols": {
    "lenName": 16,
    "lenType": 16,
    "lenVar": 40
   },
   "kernels_config": {
    "python": {
     "delete_cmd_postfix": "",
     "delete_cmd_prefix": "del ",
     "library": "var_list.py",
     "varRefreshCmd": "print(var_dic_list())"
    },
    "r": {
     "delete_cmd_postfix": ") ",
     "delete_cmd_prefix": "rm(",
     "library": "var_list.r",
     "varRefreshCmd": "cat(var_dic_list()) "
    }
   },
   "types_to_exclude": [
    "module",
    "function",
    "builtin_function_or_method",
    "instance",
    "_Feature"
   ],
   "window_display": false
  }
 },
 "nbformat": 4,
 "nbformat_minor": 2
}
